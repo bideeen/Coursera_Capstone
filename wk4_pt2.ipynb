{
 "cells": [
  {
   "cell_type": "markdown",
   "metadata": {},
   "source": [
    "## The battle of Neighbours\n",
    "\n",
    "### Week 4: Part b) - \n",
    "\n",
    "### Title: Resturant Recommender System In Toronto\n",
    "\n",
    "### Data requirements :\n",
    " - Finding a solution to the questions and building a recommender model, lots of data is needed. Data answers unimaginable questions and questions that are non answerable by humans because humans do not have the tendency to analyse such large data and it produce analtics to find a solutions.\n",
    "\n",
    "Let's consider the base scenerio:\n",
    "\n",
    "Suppose I want to find a nice resturant, there are three things needed:\n",
    " <ol>\n",
    " <li>Population of the neighborhood where the restaurant is located. <br></li>\n",
    " <li>Its geographical coordinates(latitide and longitude) to find our where exactly it is located. <br></li>\n",
    " <li>Average income of neighborhood to know how much is the restaurant worth. <br></li>\n",
    " </ol>\n",
    "\n",
    "Let's take a vast look at each cases:\n",
    "\n",
    " <ol>\n",
    " <li>Population of a neighborhood is very important factor in determining a restaurant's growth and amount of customers who turn up to eat. Logically, the more the population of a neighborhood, the more people will be interested to walk openly into a restaurant and less the population, less number of people frequently visit a restaurant. Also if more people visit, better the restaurant is rated because it is accessed by different people with different taste. Hence is is very important factor. <br>\n",
    " </li>\n",
    " <li>To access location of a restaurant, its Latitude and Longitude is to be known so that we can point at its coordinates and create a map displaying all the restaurants with its labels respectively.<br>\n",
    " </li>\n",
    " <li>Income of a neighborhood is also very important factor as population was. Income is directly proportional to richness of a neighborhood. If people in a neighborhood earns more than an average income, then it is very much possible that they will spend more however not always true with very less probability. So an restaurant accessment is proportional to income of a neighborhood. <br>\n",
    " </li>\n",
    " </ol>\n",
    "\n",
    "\n",
    "### Data Descrption\n",
    "\n",
    " <ul>\n",
    " <li>Collecting the data was easy. The data was extracted from <a href='https://en.wikipedia.org/wiki/List_of_postal_codes_of_Canada:_M'>wikipedia<a><br></li>\n",
    " </ul>\n",
    "\n"
   ]
  }
 ],
 "metadata": {
  "language_info": {
   "codemirror_mode": {
    "name": "ipython",
    "version": 3
   },
   "file_extension": ".py",
   "mimetype": "text/x-python",
   "name": "python",
   "nbconvert_exporter": "python",
   "pygments_lexer": "ipython3",
   "version": 3
  },
  "orig_nbformat": 2
 },
 "nbformat": 4,
 "nbformat_minor": 2
}