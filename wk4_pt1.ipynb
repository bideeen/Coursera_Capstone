{
 "cells": [
  {
   "cell_type": "markdown",
   "metadata": {},
   "source": [
    "## The battle of Neighbours\n",
    "\n",
    "### Week 4: Part a) - \n",
    "\n",
    "### Title: Resturant Recommender System In Toronto\n",
    "\n",
    "\n",
    "#### Problem Description:\n",
    "\n",
    " - For instance, I travel now and then. It gets very hectic and I get to experience very different environments, of which i don't have much knowledge about. When it gets to a point, hunger sets in; to which \n",
    " food is an important factor at that point in time. \n",
    " - Food can also attract tourist around to world so to know which citiess have the best taste. In such scenarios, we need to find the right place, at reasonable cost, to serve us the best possible way. So there are few questions that must be addresed, such as :\n",
    "   \n",
    "   <ol>\n",
    "   <li>which is the most nearest to me with good rating ? <br></li>\n",
    "   <li>How many types of foods are available in the restaurant ?<br></li>\n",
    "   <li>How many \"similar\" restaurants are available near by me ? <br></li>   \n",
    "   <li>Do the \"similar\" restaurants cost more ? if so, what speciality do that have <br></li>   \n",
    "   </ol>\n",
    "\n",
    "To address such question, Apex company's manager decides to allocate this project to me not just to find out solutions to the questions but also build a system that can help in recommending new places based on their rankings compared to the previously visited by me.\n",
    "\n",
    "Expectations from this recommender system is to get answer for the questions, and in such a way that it uncovers all the perspective of managing recommendations. It is sighted to show :\n",
    "\n",
    "   <ol>\n",
    "   <li>What types of restaurants are present in a paeticular area ?<br></li>\n",
    "   <li>How do different restaurants rank with respect to my preferences ?<br></li>\n",
    "   <li>where are the similar restaurant present based on a preference to particular food ?<br></li>     \n",
    "   </ol>\n",
    "\n",
    "#### Target audience :\n",
    " - Target audiences for this project does not limit to a person who keeps travelling but everyone. \n",
    " - People could simply decide to look for a similar restaurant all the time because they are addicted to a specific category of food. \n",
    " - People who rarely use restaurants would prefer to have the most rated restaurants nearby them and all this could be easily handed by our recommender system. \n",
    " - So target for this project is basically everyone who is exploring different places or similar places.\n",
    "\n",
    "\n",
    "#### Success rate :\n",
    " - With restaurants evolving, new food categories emerge, hybrid food starts to be more popular.\n",
    " - We need a system that could help us access vast number of food varieties. \n",
    " - It is impossible for a person to ask each and everyone about their visit to a particular place and also not everyone remembers everything. \n",
    " - On the other hand, Computers are good at remembering things, and with Machine learning to its peak.\n",
    " - it high time technology will by our personal guidence and help us personally based on our likes and dislikes. \n",
    " - So people would care about this project as their personal assistance and success rate could certainly increase with time."
   ]
  }
 ],
 "metadata": {
  "language_info": {
   "codemirror_mode": {
    "name": "ipython",
    "version": 3
   },
   "file_extension": ".py",
   "mimetype": "text/x-python",
   "name": "python",
   "nbconvert_exporter": "python",
   "pygments_lexer": "ipython3",
   "version": 3
  },
  "orig_nbformat": 2
 },
 "nbformat": 4,
 "nbformat_minor": 2
}